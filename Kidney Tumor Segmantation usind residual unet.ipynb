{
 "cells": [
  {
   "cell_type": "markdown",
   "id": "tGR_t0Csjuib",
   "metadata": {
    "id": "tGR_t0Csjuib"
   },
   "source": [
    "# Downloding Dataset"
   ]
  },
  {
   "cell_type": "code",
   "execution_count": 1,
   "id": "017c77fd",
   "metadata": {
    "colab": {
     "base_uri": "https://localhost:8080/"
    },
    "id": "017c77fd",
    "outputId": "e2b9fc68-0fe1-48f6-8d1c-591d004d6ad4"
   },
   "outputs": [
    {
     "name": "stdout",
     "output_type": "stream",
     "text": [
      "Cloning into 'kits19'...\n",
      "remote: Enumerating objects: 1026, done.\u001b[K\n",
      "remote: Counting objects: 100% (23/23), done.\u001b[K\n",
      "remote: Compressing objects: 100% (18/18), done.\u001b[K\n",
      "remote: Total 1026 (delta 8), reused 15 (delta 4), pack-reused 1003\u001b[K\n",
      "Receiving objects: 100% (1026/1026), 29.74 MiB | 40.71 MiB/s, done.\n",
      "Resolving deltas: 100% (469/469), done.\n"
     ]
    }
   ],
   "source": [
    "!git clone https://github.com/neheller/kits19\n"
   ]
  },
  {
   "cell_type": "code",
   "execution_count": 2,
   "id": "IQK9mLk_ngDX",
   "metadata": {
    "colab": {
     "base_uri": "https://localhost:8080/"
    },
    "id": "IQK9mLk_ngDX",
    "outputId": "e6367f7b-37bc-4769-f980-2b1f4974e798"
   },
   "outputs": [
    {
     "name": "stdout",
     "output_type": "stream",
     "text": [
      "Collecting google-colab-shell\n",
      "  Downloading google-colab-shell-0.2.tar.gz (4.2 kB)\n",
      "  Preparing metadata (setup.py) ... \u001b[?25l\u001b[?25hdone\n",
      "Building wheels for collected packages: google-colab-shell\n",
      "  Building wheel for google-colab-shell (setup.py) ... \u001b[?25l\u001b[?25hdone\n",
      "  Created wheel for google-colab-shell: filename=google_colab_shell-0.2-py3-none-any.whl size=4108 sha256=93a8345eb7726fe4b0cb71a20db7069407a5b15b401f093dbae1ea94253cfed3\n",
      "  Stored in directory: /root/.cache/pip/wheels/f9/36/65/95dd4599be065418a9fe1f482674c8e716ce540f3f484681d2\n",
      "Successfully built google-colab-shell\n",
      "Installing collected packages: google-colab-shell\n",
      "Successfully installed google-colab-shell-0.2\n"
     ]
    }
   ],
   "source": [
    "!pip install google-colab-shell"
   ]
  },
  {
   "cell_type": "code",
   "execution_count": 4,
   "id": "53ifvme5niaT",
   "metadata": {
    "colab": {
     "base_uri": "https://localhost:8080/",
     "height": 417
    },
    "id": "53ifvme5niaT",
    "outputId": "df723599-8040-4316-cc9d-e18781533d1a"
   },
   "outputs": [
    {
     "data": {
      "text/html": [
       "<!--https://github.com/singhsidhukuldeep/Google-Colab-Shell/-->\n",
       "<!--Using JS/CSS from official sources with backups in-case :)-->\n",
       "<div id=colab_shell></div>\n",
       "<script src=\"https://code.jquery.com/jquery-latest.js\"></script>\n",
       "<script src=\"https://cdn.jsdelivr.net/npm/jquery.terminal/js/jquery.terminal.min.js\"></script>\n",
       "<link href=\"https://cdn.jsdelivr.net/npm/jquery.terminal/css/jquery.terminal.min.css\" rel=\"stylesheet\"/>\n",
       "<script>\n",
       "   $('#colab_shell').terminal(async function(command) {\n",
       "       if (command !== '') {\n",
       "           try {\n",
       "               let res = await google.colab.kernel.invokeFunction('shell', [command])\n",
       "               let out = res.data['application/json'][0]\n",
       "               this.echo(new String(out))\n",
       "           } catch(e) {\n",
       "               this.error(new String(e));\n",
       "           }\n",
       "       } else {\n",
       "           this.echo(\n",
       "             //   '>>Empty Command<<\\n'+\n",
       "             //   'If you can afford use Google Colab Pro'\n",
       "               );\n",
       "       }\n",
       "   }, {\n",
       "       greetings: 'Welcome to Google Colab Shell\\n'+\n",
       "         'If you can afford, please use Google Colab Pro ( https://colab.research.google.com/signup )\\n'+\n",
       "         '⭐ STAR the repo ⭐\\n https://github.com/singhsidhukuldeep/Google-Colab-Shell\\n\\n',\n",
       "       name: 'colab_shell',\n",
       "       height: 400,\n",
       "       prompt: '█$ colab>>\\t'\n",
       "   });\n",
       "</script>\n"
      ],
      "text/plain": [
       "<IPython.core.display.HTML object>"
      ]
     },
     "execution_count": 4,
     "metadata": {},
     "output_type": "execute_result"
    }
   ],
   "source": [
    "from google_colab_shell import getshell\n",
    "getshell(height=400)"
   ]
  },
  {
   "cell_type": "code",
   "execution_count": 5,
   "id": "Zr84hpJUpOFJ",
   "metadata": {
    "id": "Zr84hpJUpOFJ"
   },
   "outputs": [],
   "source": [
    "#delete the unwanted files\n",
    "import os\n",
    "main_folder = \"/content/kits19/data/\"\n",
    "subfolders = [f.path for f in os.scandir(main_folder) if f.is_dir()]\n",
    "\n",
    "for subfolder in subfolders:\n",
    "    files = os.listdir(subfolder)\n",
    "\n",
    "    if len(files) <= 1:\n",
    "\n",
    "        os.system(f\"rm -r {subfolder}\")\n"
   ]
  },
  {
   "cell_type": "markdown",
   "id": "4FoMmfqOkFqe",
   "metadata": {
    "id": "4FoMmfqOkFqe"
   },
   "source": [
    "Import necessary libraries"
   ]
  },
  {
   "cell_type": "code",
   "execution_count": 7,
   "id": "yPA5keeSp1SC",
   "metadata": {
    "id": "yPA5keeSp1SC"
   },
   "outputs": [],
   "source": [
    "import glob\n",
    "import shutil\n",
    "import nibabel as nib\n",
    "import numpy as np\n",
    "import matplotlib.pyplot as plt\n",
    "import cv2\n",
    "import pandas as pd\n",
    "from tensorflow.keras import backend as K\n",
    "from tensorflow.keras.callbacks import EarlyStopping, ModelCheckpoint, CSVLogger\n",
    "import numpy as np\n",
    "import tensorflow\n",
    "from tensorflow.keras.models import Model\n",
    "from tensorflow.keras.layers import Input, Conv2D, Conv2DTranspose, MaxPooling2D, concatenate\n",
    "import matplotlib.pyplot as plt\n",
    "from tensorflow.keras.preprocessing.image import ImageDataGenerator\n",
    "from tensorflow import keras\n",
    "from tensorflow.keras.callbacks import EarlyStopping, ModelCheckpoint\n",
    "from datetime import datetime"
   ]
  },
  {
   "cell_type": "markdown",
   "id": "lNA2XpKJkNVD",
   "metadata": {
    "id": "lNA2XpKJkNVD"
   },
   "source": [
    "Convert .nii.gz to .nii"
   ]
  },
  {
   "cell_type": "code",
   "execution_count": 6,
   "id": "b5c75e19",
   "metadata": {
    "id": "b5c75e19"
   },
   "outputs": [],
   "source": [
    "import glob\n",
    "import os\n",
    "import shutil\n",
    "import nibabel as nib\n",
    "\n",
    "input_folder = '/content/kits19/data'\n",
    "output_scan_folder = '/content/Data/scan_images'\n",
    "output_segmented_folder = '/content/Data/segmented_images'\n",
    "\n",
    "os.makedirs(output_scan_folder, exist_ok=True)\n",
    "os.makedirs(output_segmented_folder, exist_ok=True)\n",
    "\n",
    "patient_folders = glob.glob(os.path.join(input_folder, '*'))\n",
    "\n",
    "for patient_folder in patient_folders:\n",
    "    nii_files = glob.glob(os.path.join(patient_folder, '*.nii.gz'))\n",
    "    nii_files.sort()\n",
    "\n",
    "    if len(nii_files) >= 2:\n",
    "        scan_img = nib.load(nii_files[0])\n",
    "        scan_output_path = os.path.join(output_scan_folder, f\"{os.path.basename(patient_folder)}.nii\")\n",
    "        nib.save(scan_img, scan_output_path)\n",
    "        segmented_img = nib.load(nii_files[1])\n",
    "        segmented_output_path = os.path.join(output_segmented_folder, f\"{os.path.basename(patient_folder)}.nii\")\n",
    "        nib.save(segmented_img, segmented_output_path)\n"
   ]
  },
  {
   "cell_type": "markdown",
   "id": "Z7Ay9GDekiyh",
   "metadata": {
    "id": "Z7Ay9GDekiyh"
   },
   "source": [
    "Upload data to drive"
   ]
  },
  {
   "cell_type": "code",
   "execution_count": 8,
   "id": "txreKgcFpcoC",
   "metadata": {
    "colab": {
     "base_uri": "https://localhost:8080/"
    },
    "id": "txreKgcFpcoC",
    "outputId": "93e6e3fa-5617-4f7c-d2b7-fc64b3c5c2a4"
   },
   "outputs": [
    {
     "name": "stdout",
     "output_type": "stream",
     "text": [
      "Mounted at /content/drive\n"
     ]
    }
   ],
   "source": [
    "\n",
    "from google.colab import drive\n",
    "drive.mount('/content/drive')"
   ]
  },
  {
   "cell_type": "code",
   "execution_count": 9,
   "id": "d0b97fd0",
   "metadata": {
    "id": "d0b97fd0"
   },
   "outputs": [],
   "source": [
    "# STEP 1 - Load and visualize data\n",
    "dataInputPath = '/content/Data/'\n",
    "imagePathInput = os.path.join(dataInputPath, 'scan_images/')\n",
    "maskPathInput = os.path.join(dataInputPath, 'segmented_images/')\n",
    "\n",
    "dataOutputPath = '/content/2-D/'\n",
    "imageSliceOutput = os.path.join(dataOutputPath, 'scan_images/')\n",
    "maskSliceOutput = os.path.join(dataOutputPath, 'segmented_images/')\n",
    "\n",
    "os.makedirs(imageSliceOutput, exist_ok=True)\n",
    "os.makedirs(maskSliceOutput, exist_ok=True)\n",
    "\n",
    "# STEP 2 - Image normalization\n",
    "HOUNSFIELD_MIN = -1000\n",
    "HOUNSFIELD_MAX = 2000\n",
    "HOUNSFIELD_RANGE = HOUNSFIELD_MAX - HOUNSFIELD_MIN\n",
    "\n",
    "# STEP 3 - Slicing and saving\n",
    "SLICE_X = True\n",
    "SLICE_Y = True\n",
    "SLICE_Z = False\n",
    "\n",
    "SLICE_DECIMATE_IDENTIFIER = 3"
   ]
  },
  {
   "cell_type": "code",
   "execution_count": 10,
   "id": "a682b2c4",
   "metadata": {
    "colab": {
     "base_uri": "https://localhost:8080/"
    },
    "id": "a682b2c4",
    "outputId": "03055710-69a4-4e3c-8e69-e94b809a9368"
   },
   "outputs": [
    {
     "data": {
      "text/plain": [
       "(-1024.0, 1413.0, (611, 512, 512), numpy.memmap)"
      ]
     },
     "execution_count": 10,
     "metadata": {},
     "output_type": "execute_result"
    }
   ],
   "source": [
    "# Load image and see max min Hounsfield units\n",
    "imgPath = os.path.join(imagePathInput, 'case_00000.nii')\n",
    "img = nib.load(imgPath).get_fdata()\n",
    "np.min(img), np.max(img), img.shape, type(img)"
   ]
  },
  {
   "cell_type": "code",
   "execution_count": 11,
   "id": "52906b53",
   "metadata": {
    "colab": {
     "base_uri": "https://localhost:8080/"
    },
    "id": "52906b53",
    "outputId": "767f81dc-828c-4e7e-9865-9586e1affae4"
   },
   "outputs": [
    {
     "data": {
      "text/plain": [
       "(0.0, 2.0, (611, 512, 512), numpy.memmap)"
      ]
     },
     "execution_count": 11,
     "metadata": {},
     "output_type": "execute_result"
    }
   ],
   "source": [
    "# Load image mask and see max min Hounsfield units\n",
    "maskPath = os.path.join(maskPathInput, 'case_00000.nii')\n",
    "mask = nib.load(maskPath).get_fdata()\n",
    "np.min(mask), np.max(mask), mask.shape, type(mask)"
   ]
  },
  {
   "cell_type": "code",
   "execution_count": 12,
   "id": "hPW7vjEDbTcd",
   "metadata": {
    "colab": {
     "base_uri": "https://localhost:8080/",
     "height": 435
    },
    "id": "hPW7vjEDbTcd",
    "outputId": "aeb74854-97a6-47d9-9af2-37ad7c0db4d2"
   },
   "outputs": [
    {
     "data": {
      "image/png": "[encoded data removed]",
      "text/plain": [
       "<Figure size 640x480 with 1 Axes>"
      ]
     },
     "metadata": {},
     "output_type": "display_data"
    }
   ],
   "source": [
    "# Show image slice\n",
    "imgSlice = img[200,:,:]\n",
    "plt.imshow(imgSlice, cmap='gray')\n",
    "plt.show()"
   ]
  },
  {
   "cell_type": "code",
   "execution_count": 13,
   "id": "O04tKuifbU5t",
   "metadata": {
    "colab": {
     "base_uri": "https://localhost:8080/",
     "height": 435
    },
    "id": "O04tKuifbU5t",
    "outputId": "4409cc95-0f6e-4be8-d2bb-d84f71ad289f"
   },
   "outputs": [
    {
     "data": {
      "image/png": "[encoded data removed]",
      "text/plain": [
       "<Figure size 640x480 with 1 Axes>"
      ]
     },
     "metadata": {},
     "output_type": "display_data"
    }
   ],
   "source": [
    "# Show image slice\n",
    "imgSlice = mask[200,:,:]\n",
    "plt.imshow(imgSlice, cmap='gray')\n",
    "plt.show()"
   ]
  },
  {
   "cell_type": "code",
   "execution_count": 14,
   "id": "omWo6gFpozny",
   "metadata": {
    "colab": {
     "base_uri": "https://localhost:8080/"
    },
    "id": "omWo6gFpozny",
    "outputId": "c8415e48-86b2-4fe6-c01c-2b693d7743a7"
   },
   "outputs": [
    {
     "data": {
      "text/plain": [
       "(0.0, 0.8043333333333333, (611, 512, 512), numpy.ndarray)"
      ]
     },
     "execution_count": 14,
     "metadata": {},
     "output_type": "execute_result"
    }
   ],
   "source": [
    "# Normalize image\n",
    "def normalizeImageIntensityRange(img):\n",
    "    img[img < HOUNSFIELD_MIN] = HOUNSFIELD_MIN\n",
    "    img[img > HOUNSFIELD_MAX] = HOUNSFIELD_MAX\n",
    "    return (img - HOUNSFIELD_MIN) / HOUNSFIELD_RANGE\n",
    "\n",
    "nImg = normalizeImageIntensityRange(img)\n",
    "np.min(nImg), np.max(nImg), nImg.shape, type(nImg)"
   ]
  },
  {
   "cell_type": "code",
   "execution_count": 15,
   "id": "lTcSO9Rko3Tg",
   "metadata": {
    "colab": {
     "base_uri": "https://localhost:8080/"
    },
    "id": "lTcSO9Rko3Tg",
    "outputId": "e0897b38-8142-43a1-f0a1-c979b8ef658d"
   },
   "outputs": [
    {
     "data": {
      "text/plain": [
       "memmap([[[0., 0., 0., ..., 0., 0., 0.],\n",
       "         [0., 0., 0., ..., 0., 0., 0.],\n",
       "         [0., 0., 0., ..., 0., 0., 0.],\n",
       "         ...,\n",
       "         [0., 0., 0., ..., 0., 0., 0.],\n",
       "         [0., 0., 0., ..., 0., 0., 0.],\n",
       "         [0., 0., 0., ..., 0., 0., 0.]],\n",
       "\n",
       "        [[0., 0., 0., ..., 0., 0., 0.],\n",
       "         [0., 0., 0., ..., 0., 0., 0.],\n",
       "         [0., 0., 0., ..., 0., 0., 0.],\n",
       "         ...,\n",
       "         [0., 0., 0., ..., 0., 0., 0.],\n",
       "         [0., 0., 0., ..., 0., 0., 0.],\n",
       "         [0., 0., 0., ..., 0., 0., 0.]],\n",
       "\n",
       "        [[0., 0., 0., ..., 0., 0., 0.],\n",
       "         [0., 0., 0., ..., 0., 0., 0.],\n",
       "         [0., 0., 0., ..., 0., 0., 0.],\n",
       "         ...,\n",
       "         [0., 0., 0., ..., 0., 0., 0.],\n",
       "         [0., 0., 0., ..., 0., 0., 0.],\n",
       "         [0., 0., 0., ..., 0., 0., 0.]],\n",
       "\n",
       "        ...,\n",
       "\n",
       "        [[0., 0., 0., ..., 0., 0., 0.],\n",
       "         [0., 0., 0., ..., 0., 0., 0.],\n",
       "         [0., 0., 0., ..., 0., 0., 0.],\n",
       "         ...,\n",
       "         [0., 0., 0., ..., 0., 0., 0.],\n",
       "         [0., 0., 0., ..., 0., 0., 0.],\n",
       "         [0., 0., 0., ..., 0., 0., 0.]],\n",
       "\n",
       "        [[0., 0., 0., ..., 0., 0., 0.],\n",
       "         [0., 0., 0., ..., 0., 0., 0.],\n",
       "         [0., 0., 0., ..., 0., 0., 0.],\n",
       "         ...,\n",
       "         [0., 0., 0., ..., 0., 0., 0.],\n",
       "         [0., 0., 0., ..., 0., 0., 0.],\n",
       "         [0., 0., 0., ..., 0., 0., 0.]],\n",
       "\n",
       "        [[0., 0., 0., ..., 0., 0., 0.],\n",
       "         [0., 0., 0., ..., 0., 0., 0.],\n",
       "         [0., 0., 0., ..., 0., 0., 0.],\n",
       "         ...,\n",
       "         [0., 0., 0., ..., 0., 0., 0.],\n",
       "         [0., 0., 0., ..., 0., 0., 0.],\n",
       "         [0., 0., 0., ..., 0., 0., 0.]]])"
      ]
     },
     "execution_count": 15,
     "metadata": {},
     "output_type": "execute_result"
    }
   ],
   "source": [
    "# Read image or mask volume\n",
    "def readImageVolume(imgPath, normalize=False):\n",
    "    img = nib.load(imgPath).get_fdata()\n",
    "    if normalize:\n",
    "        return normalizeImageIntensityRange(img)\n",
    "    else:\n",
    "        return img\n",
    "\n",
    "readImageVolume(imgPath, normalize=True)\n",
    "readImageVolume(maskPath, normalize=False)"
   ]
  },
  {
   "cell_type": "code",
   "execution_count": 16,
   "id": "C6m_XiBpo57A",
   "metadata": {
    "id": "C6m_XiBpo57A"
   },
   "outputs": [],
   "source": [
    "# Save volume slice to file\n",
    "def saveSlice(img, fname, path):\n",
    "    img = np.uint8(img * 255)\n",
    "    fout = os.path.join(path, f'{fname}.png')\n",
    "    cv2.imwrite(fout, img)\n",
    "    print(f'[+] Slice saved: {fout}', end='\\r')\n"
   ]
  },
  {
   "cell_type": "code",
   "execution_count": 17,
   "id": "XpASBI7Oo-72",
   "metadata": {
    "id": "XpASBI7Oo-72"
   },
   "outputs": [],
   "source": [
    "# Slice image in all directions and save\n",
    "def sliceAndSaveVolumeImage(vol, fname, path):\n",
    "    (dimx, dimy, dimz) = vol.shape\n",
    "    print(dimx, dimy, dimz)\n",
    "    cnt = 0\n",
    "    if SLICE_X:\n",
    "        cnt += dimx\n",
    "        print('Slicing X: ')\n",
    "        for i in range(dimx):\n",
    "            saveSlice(vol[i,:,:], fname+f'-slice{str(i).zfill(SLICE_DECIMATE_IDENTIFIER)}_x', path)\n",
    "\n",
    "    if SLICE_Y:\n",
    "        cnt += dimy\n",
    "        print('Slicing Y: ')\n",
    "        for i in range(dimy):\n",
    "            saveSlice(vol[:,i,:], fname+f'-slice{str(i).zfill(SLICE_DECIMATE_IDENTIFIER)}_y', path)\n",
    "\n",
    "    if SLICE_Z:\n",
    "        cnt += dimz\n",
    "        print('Slicing Z: ')\n",
    "        for i in range(dimz):\n",
    "            saveSlice(vol[:,:,i], fname+f'-slice{str(i).zfill(SLICE_DECIMATE_IDENTIFIER)}_z', path)\n",
    "    return cnt"
   ]
  },
  {
   "cell_type": "code",
   "execution_count": 18,
   "id": "IR-aSCu_pDwI",
   "metadata": {
    "colab": {
     "base_uri": "https://localhost:8080/"
    },
    "id": "IR-aSCu_pDwI",
    "outputId": "91246d11-8388-47ed-c59b-8e7c15e6ac3b"
   },
   "outputs": [
    {
     "name": "stdout",
     "output_type": "stream",
     "text": [
      "/content/Data/scan_images/case_00000.nii (611, 512, 512) 1635 0.0 0.8043333333333333\n",
      "611 512 512\n",
      "Slicing X: \n",
      "Slicing Y: \n",
      "[+] Slice saved: /content/drive/MyDrive/2-D/scan_images/case0-slice511_y.png\n",
      "/content/Data/scan_images/case_00000.nii, 1123 slices created \n",
      "\n",
      "/content/Data/scan_images/case_00001.nii (602, 512, 512) 1626 0.0 0.7976666666666666\n",
      "602 512 512\n",
      "Slicing X: \n",
      "Slicing Y: \n",
      "[+] Slice saved: /content/drive/MyDrive/2-D/scan_images/case1-slice511_y.png\n",
      "/content/Data/scan_images/case_00001.nii, 1114 slices created \n",
      "\n",
      "/content/Data/scan_images/case_00002.nii (261, 512, 512) 1285 0.0 1.0\n",
      "261 512 512\n",
      "Slicing X: \n",
      "Slicing Y: \n",
      "[+] Slice saved: /content/drive/MyDrive/2-D/scan_images/case2-slice511_y.png\n",
      "/content/Data/scan_images/case_00002.nii, 773 slices created \n",
      "\n",
      "/content/Data/scan_images/case_00003.nii (270, 512, 512) 1294 0.0 1.0\n",
      "270 512 512\n",
      "Slicing X: \n",
      "Slicing Y: \n",
      "[+] Slice saved: /content/drive/MyDrive/2-D/scan_images/case3-slice511_y.png\n",
      "/content/Data/scan_images/case_00003.nii, 782 slices created \n",
      "\n",
      "/content/Data/scan_images/case_00004.nii (64, 512, 512) 1088 0.0 1.0\n",
      "64 512 512\n",
      "Slicing X: \n",
      "Slicing Y: \n",
      "[+] Slice saved: /content/drive/MyDrive/2-D/scan_images/case4-slice511_y.png\n",
      "/content/Data/scan_images/case_00004.nii, 576 slices created \n",
      "\n",
      "/content/Data/scan_images/case_00005.nii (834, 512, 512) 1858 0.0 1.0\n",
      "834 512 512\n",
      "Slicing X: \n",
      "Slicing Y: \n",
      "[+] Slice saved: /content/drive/MyDrive/2-D/scan_images/case5-slice511_y.png\n",
      "/content/Data/scan_images/case_00005.nii, 1346 slices created \n",
      "\n",
      "/content/Data/scan_images/case_00006.nii (157, 512, 512) 1181 0.0 0.9273333333333333\n",
      "157 512 512\n",
      "Slicing X: \n",
      "Slicing Y: \n",
      "[+] Slice saved: /content/drive/MyDrive/2-D/scan_images/case6-slice511_y.png\n",
      "/content/Data/scan_images/case_00006.nii, 669 slices created \n",
      "\n",
      "/content/Data/scan_images/case_00007.nii (61, 512, 512) 1085 0.0 0.696\n",
      "61 512 512\n",
      "Slicing X: \n",
      "Slicing Y: \n",
      "[+] Slice saved: /content/drive/MyDrive/2-D/scan_images/case7-slice511_y.png\n",
      "/content/Data/scan_images/case_00007.nii, 573 slices created \n",
      "\n",
      "/content/Data/scan_images/case_00008.nii (227, 512, 512) 1251 0.0 1.0\n",
      "227 512 512\n",
      "Slicing X: \n",
      "Slicing Y: \n",
      "[+] Slice saved: /content/drive/MyDrive/2-D/scan_images/case8-slice511_y.png\n",
      "/content/Data/scan_images/case_00008.nii, 739 slices created \n",
      "\n",
      "/content/Data/scan_images/case_00009.nii (77, 512, 512) 1101 0.0 0.7913333333333333\n",
      "77 512 512\n",
      "Slicing X: \n",
      "Slicing Y: \n",
      "[+] Slice saved: /content/drive/MyDrive/2-D/scan_images/case9-slice511_y.png\n",
      "/content/Data/scan_images/case_00009.nii, 589 slices created \n",
      "\n",
      "/content/Data/scan_images/case_00010.nii (50, 512, 512) 1074 0.0 0.76\n",
      "50 512 512\n",
      "Slicing X: \n",
      "Slicing Y: \n",
      "[+] Slice saved: /content/drive/MyDrive/2-D/scan_images/case10-slice511_y.png\n",
      "/content/Data/scan_images/case_00010.nii, 562 slices created \n",
      "\n",
      "/content/Data/scan_images/case_00011.nii (80, 512, 512) 1104 0.0 0.9113333333333333\n",
      "80 512 512\n",
      "Slicing X: \n",
      "Slicing Y: \n",
      "[+] Slice saved: /content/drive/MyDrive/2-D/scan_images/case11-slice511_y.png\n",
      "/content/Data/scan_images/case_00011.nii, 592 slices created \n",
      "\n",
      "/content/Data/scan_images/case_00012.nii (89, 512, 512) 1113 0.0 1.0\n",
      "89 512 512\n",
      "Slicing X: \n",
      "Slicing Y: \n",
      "[+] Slice saved: /content/drive/MyDrive/2-D/scan_images/case12-slice511_y.png\n",
      "/content/Data/scan_images/case_00012.nii, 601 slices created \n",
      "\n",
      "/content/Data/scan_images/case_00013.nii (92, 512, 512) 1116 0.0 0.9206666666666666\n",
      "92 512 512\n",
      "Slicing X: \n",
      "Slicing Y: \n",
      "[+] Slice saved: /content/drive/MyDrive/2-D/scan_images/case13-slice511_y.png\n",
      "/content/Data/scan_images/case_00013.nii, 604 slices created \n",
      "\n",
      "/content/Data/scan_images/case_00014.nii (439, 512, 512) 1463 0.0 1.0\n",
      "439 512 512\n",
      "Slicing X: \n",
      "Slicing Y: \n",
      "[+] Slice saved: /content/drive/MyDrive/2-D/scan_images/case14-slice511_y.png\n",
      "/content/Data/scan_images/case_00014.nii, 951 slices created \n",
      "\n",
      "/content/Data/scan_images/case_00015.nii (75, 512, 512) 1099 0.0 1.0\n",
      "75 512 512\n",
      "Slicing X: \n",
      "Slicing Y: \n",
      "[+] Slice saved: /content/drive/MyDrive/2-D/scan_images/case15-slice511_y.png\n",
      "/content/Data/scan_images/case_00015.nii, 587 slices created \n",
      "\n",
      "/content/Data/scan_images/case_00016.nii (178, 512, 512) 1202 0.0 1.0\n",
      "178 512 512\n",
      "Slicing X: \n",
      "Slicing Y: \n",
      "[+] Slice saved: /content/drive/MyDrive/2-D/scan_images/case16-slice511_y.png\n",
      "/content/Data/scan_images/case_00016.nii, 690 slices created \n",
      "\n",
      "/content/Data/scan_images/case_00017.nii (97, 512, 512) 1121 0.0 0.8616666666666667\n",
      "97 512 512\n",
      "Slicing X: \n",
      "Slicing Y: \n",
      "[+] Slice saved: /content/drive/MyDrive/2-D/scan_images/case17-slice511_y.png\n",
      "/content/Data/scan_images/case_00017.nii, 609 slices created \n",
      "\n",
      "/content/Data/scan_images/case_00018.nii (121, 512, 512) 1145 0.0 0.734\n",
      "121 512 512\n",
      "Slicing X: \n",
      "Slicing Y: \n",
      "[+] Slice saved: /content/drive/MyDrive/2-D/scan_images/case18-slice511_y.png\n",
      "/content/Data/scan_images/case_00018.nii, 633 slices created \n",
      "\n",
      "/content/Data/scan_images/case_00019.nii (129, 512, 512) 1153 0.0 0.756\n",
      "129 512 512\n",
      "Slicing X: \n",
      "Slicing Y: \n",
      "[+] Slice saved: /content/drive/MyDrive/2-D/scan_images/case19-slice511_y.png\n",
      "/content/Data/scan_images/case_00019.nii, 641 slices created \n",
      "\n"
     ]
    }
   ],
   "source": [
    "for index, filename in enumerate(sorted(glob.iglob(imagePathInput+'*.nii'))):\n",
    "    img = readImageVolume(filename, True)\n",
    "    print(filename, img.shape, np.sum(img.shape), np.min(img), np.max(img))\n",
    "    numOfSlices = sliceAndSaveVolumeImage(img, 'case'+str(index), imageSliceOutput)\n",
    "    print(f'\\n{filename}, {numOfSlices} slices created \\n')"
   ]
  },
  {
   "cell_type": "code",
   "execution_count": 19,
   "id": "Xi0j68HzpGZT",
   "metadata": {
    "colab": {
     "base_uri": "https://localhost:8080/"
    },
    "id": "Xi0j68HzpGZT",
    "outputId": "d139960b-6f40-4031-c342-0332b62bd854"
   },
   "outputs": [
    {
     "name": "stdout",
     "output_type": "stream",
     "text": [
      "/content/Data/segmented_images/case_00000.nii (611, 512, 512) 1635 0.0 2.0\n",
      "611 512 512\n",
      "Slicing X: \n",
      "Slicing Y: \n",
      "[+] Slice saved: /content/drive/MyDrive/2-D/segmented_images/case0-slice511_y.png\n",
      "/content/Data/segmented_images/case_00000.nii, 1123 slices created \n",
      "\n",
      "/content/Data/segmented_images/case_00001.nii (602, 512, 512) 1626 0.0 2.0\n",
      "602 512 512\n",
      "Slicing X: \n",
      "Slicing Y: \n",
      "[+] Slice saved: /content/drive/MyDrive/2-D/segmented_images/case1-slice511_y.png\n",
      "/content/Data/segmented_images/case_00001.nii, 1114 slices created \n",
      "\n",
      "/content/Data/segmented_images/case_00002.nii (261, 512, 512) 1285 0.0 2.0\n",
      "261 512 512\n",
      "Slicing X: \n",
      "Slicing Y: \n",
      "[+] Slice saved: /content/drive/MyDrive/2-D/segmented_images/case2-slice511_y.png\n",
      "/content/Data/segmented_images/case_00002.nii, 773 slices created \n",
      "\n",
      "/content/Data/segmented_images/case_00003.nii (270, 512, 512) 1294 0.0 2.0\n",
      "270 512 512\n",
      "Slicing X: \n",
      "Slicing Y: \n",
      "[+] Slice saved: /content/drive/MyDrive/2-D/segmented_images/case3-slice511_y.png\n",
      "/content/Data/segmented_images/case_00003.nii, 782 slices created \n",
      "\n",
      "/content/Data/segmented_images/case_00004.nii (64, 512, 512) 1088 0.0 2.0\n",
      "64 512 512\n",
      "Slicing X: \n",
      "Slicing Y: \n",
      "[+] Slice saved: /content/drive/MyDrive/2-D/segmented_images/case4-slice511_y.png\n",
      "/content/Data/segmented_images/case_00004.nii, 576 slices created \n",
      "\n",
      "/content/Data/segmented_images/case_00005.nii (834, 512, 512) 1858 0.0 2.0\n",
      "834 512 512\n",
      "Slicing X: \n",
      "Slicing Y: \n",
      "[+] Slice saved: /content/drive/MyDrive/2-D/segmented_images/case5-slice511_y.png\n",
      "/content/Data/segmented_images/case_00005.nii, 1346 slices created \n",
      "\n",
      "/content/Data/segmented_images/case_00006.nii (157, 512, 512) 1181 0.0 2.0\n",
      "157 512 512\n",
      "Slicing X: \n",
      "Slicing Y: \n",
      "[+] Slice saved: /content/drive/MyDrive/2-D/segmented_images/case6-slice511_y.png\n",
      "/content/Data/segmented_images/case_00006.nii, 669 slices created \n",
      "\n",
      "/content/Data/segmented_images/case_00007.nii (61, 512, 512) 1085 0.0 2.0\n",
      "61 512 512\n",
      "Slicing X: \n",
      "Slicing Y: \n",
      "[+] Slice saved: /content/drive/MyDrive/2-D/segmented_images/case7-slice511_y.png\n",
      "/content/Data/segmented_images/case_00007.nii, 573 slices created \n",
      "\n",
      "/content/Data/segmented_images/case_00008.nii (227, 512, 512) 1251 0.0 2.0\n",
      "227 512 512\n",
      "Slicing X: \n",
      "Slicing Y: \n",
      "[+] Slice saved: /content/drive/MyDrive/2-D/segmented_images/case8-slice511_y.png\n",
      "/content/Data/segmented_images/case_00008.nii, 739 slices created \n",
      "\n",
      "/content/Data/segmented_images/case_00009.nii (77, 512, 512) 1101 0.0 2.0\n",
      "77 512 512\n",
      "Slicing X: \n",
      "Slicing Y: \n",
      "[+] Slice saved: /content/drive/MyDrive/2-D/segmented_images/case9-slice511_y.png\n",
      "/content/Data/segmented_images/case_00009.nii, 589 slices created \n",
      "\n",
      "/content/Data/segmented_images/case_00010.nii (50, 512, 512) 1074 0.0 2.0\n",
      "50 512 512\n",
      "Slicing X: \n",
      "Slicing Y: \n",
      "[+] Slice saved: /content/drive/MyDrive/2-D/segmented_images/case10-slice511_y.png\n",
      "/content/Data/segmented_images/case_00010.nii, 562 slices created \n",
      "\n",
      "/content/Data/segmented_images/case_00011.nii (80, 512, 512) 1104 0.0 2.0\n",
      "80 512 512\n",
      "Slicing X: \n",
      "Slicing Y: \n",
      "[+] Slice saved: /content/drive/MyDrive/2-D/segmented_images/case11-slice511_y.png\n",
      "/content/Data/segmented_images/case_00011.nii, 592 slices created \n",
      "\n",
      "/content/Data/segmented_images/case_00012.nii (89, 512, 512) 1113 0.0 2.0\n",
      "89 512 512\n",
      "Slicing X: \n",
      "Slicing Y: \n",
      "[+] Slice saved: /content/drive/MyDrive/2-D/segmented_images/case12-slice511_y.png\n",
      "/content/Data/segmented_images/case_00012.nii, 601 slices created \n",
      "\n",
      "/content/Data/segmented_images/case_00013.nii (92, 512, 512) 1116 0.0 2.0\n",
      "92 512 512\n",
      "Slicing X: \n",
      "Slicing Y: \n",
      "[+] Slice saved: /content/drive/MyDrive/2-D/segmented_images/case13-slice511_y.png\n",
      "/content/Data/segmented_images/case_00013.nii, 604 slices created \n",
      "\n",
      "/content/Data/segmented_images/case_00014.nii (439, 512, 512) 1463 0.0 2.0\n",
      "439 512 512\n",
      "Slicing X: \n",
      "Slicing Y: \n",
      "[+] Slice saved: /content/drive/MyDrive/2-D/segmented_images/case14-slice511_y.png\n",
      "/content/Data/segmented_images/case_00014.nii, 951 slices created \n",
      "\n",
      "/content/Data/segmented_images/case_00015.nii (75, 512, 512) 1099 0.0 2.0\n",
      "75 512 512\n",
      "Slicing X: \n",
      "Slicing Y: \n",
      "[+] Slice saved: /content/drive/MyDrive/2-D/segmented_images/case15-slice511_y.png\n",
      "/content/Data/segmented_images/case_00015.nii, 587 slices created \n",
      "\n",
      "/content/Data/segmented_images/case_00016.nii (178, 512, 512) 1202 0.0 2.0\n",
      "178 512 512\n",
      "Slicing X: \n",
      "Slicing Y: \n",
      "[+] Slice saved: /content/drive/MyDrive/2-D/segmented_images/case16-slice511_y.png\n",
      "/content/Data/segmented_images/case_00016.nii, 690 slices created \n",
      "\n",
      "/content/Data/segmented_images/case_00017.nii (97, 512, 512) 1121 0.0 2.0\n",
      "97 512 512\n",
      "Slicing X: \n",
      "Slicing Y: \n",
      "[+] Slice saved: /content/drive/MyDrive/2-D/segmented_images/case17-slice511_y.png\n",
      "/content/Data/segmented_images/case_00017.nii, 609 slices created \n",
      "\n",
      "/content/Data/segmented_images/case_00018.nii (121, 512, 512) 1145 0.0 2.0\n",
      "121 512 512\n",
      "Slicing X: \n",
      "Slicing Y: \n",
      "[+] Slice saved: /content/drive/MyDrive/2-D/segmented_images/case18-slice511_y.png\n",
      "/content/Data/segmented_images/case_00018.nii, 633 slices created \n",
      "\n",
      "/content/Data/segmented_images/case_00019.nii (129, 512, 512) 1153 0.0 2.0\n",
      "129 512 512\n",
      "Slicing X: \n",
      "Slicing Y: \n",
      "[+] Slice saved: /content/drive/MyDrive/2-D/segmented_images/case19-slice511_y.png\n",
      "/content/Data/segmented_images/case_00019.nii, 641 slices created \n",
      "\n"
     ]
    }
   ],
   "source": [
    "# Read and process image mask volumes\n",
    "for index, filename in enumerate(sorted(glob.iglob(maskPathInput+'*.nii'))):\n",
    "    img = readImageVolume(filename, False)\n",
    "    print(filename, img.shape, np.sum(img.shape), np.min(img), np.max(img))\n",
    "    numOfSlices = sliceAndSaveVolumeImage(img, 'case'+str(index), maskSliceOutput)\n",
    "    print(f'\\n{filename}, {numOfSlices} slices created \\n')"
   ]
  },
  {
   "cell_type": "markdown",
   "id": "Qscn5GOMlAlL",
   "metadata": {
    "id": "Qscn5GOMlAlL"
   },
   "source": [
    "# MODEL"
   ]
  },
  {
   "cell_type": "code",
   "execution_count": 20,
   "id": "u072zRL3qP0x",
   "metadata": {
    "id": "u072zRL3qP0x"
   },
   "outputs": [],
   "source": [
    "# Defining functions which will be used to create the model\n",
    "\n",
    "def conv(x, filters, kernel_size=(3, 3), strides=1):\n",
    "    '''\n",
    "    This function will create the ConvBlock and return it\n",
    "    Arguments:\n",
    "    -----------------------------\n",
    "    x - previous\n",
    "    filters - value for the filters\n",
    "    kernel_size - size of the kernels default value is (3,3)\n",
    "    strides - size of the strids default value is 1\n",
    "    ------------------------------\n",
    "    '''\n",
    "\n",
    "    conv = tensorflow.keras.layers.BatchNormalization()(x)\n",
    "    conv = tensorflow.keras.layers.Activation('relu')(conv)\n",
    "    conv = tensorflow.keras.layers.Conv2D(filters, kernel_size, padding='same', strides=strides)(conv)\n",
    "    return conv\n",
    "\n",
    "def res(x, filters, strides=1):\n",
    "    '''\n",
    "    This function will create the residual block and returns it.\n",
    "    Arguments:\n",
    "    ----------------------\n",
    "    x - previous\n",
    "    filters - size of the filters\n",
    "    strides - size of the strides default value 1\n",
    "    ----------------------\n",
    "    '''\n",
    "\n",
    "    r = conv(x, filters, kernel_size=(3, 3), strides=strides)\n",
    "    r = conv(r, filters, kernel_size=(3, 3), strides=1)\n",
    "\n",
    "    shortcut = tensorflow.keras.layers.Conv2D(filters, kernel_size=(1, 1), padding=\"same\", strides=strides)(x)\n",
    "    shortcut = tensorflow.keras.layers.BatchNormalization()(shortcut)\n",
    "\n",
    "    output = tensorflow.keras.layers.Add()([shortcut, r])\n",
    "    return output"
   ]
  },
  {
   "cell_type": "code",
   "execution_count": 21,
   "id": "-iPuQCpwqY1a",
   "metadata": {
    "id": "-iPuQCpwqY1a"
   },
   "outputs": [],
   "source": [
    "def ResUNet():\n",
    "    '''\n",
    "    This function will create the ResUNet model and returns it.\n",
    "    '''\n",
    "\n",
    "    inputs = tensorflow.keras.layers.Input((256, 256, 3))\n",
    "    enc0 = inputs\n",
    "    c = tensorflow.keras.layers.Conv2D(16, (3, 3), padding=\"same\", strides=1)(enc0)\n",
    "    c2 = conv(c, 16, kernel_size=(3, 3), strides=1)\n",
    "    s = tensorflow.keras.layers.Conv2D(16, kernel_size=(1, 1), padding=\"same\", strides=1)(enc0)\n",
    "    s2 = tensorflow.keras.layers.BatchNormalization()(s)\n",
    "\n",
    "    enc1 = tensorflow.keras.layers.Add()([c2, s2])\n",
    "    enc2 = res(enc1, 32, strides=2)\n",
    "    enc3 = res(enc2, 64, strides=2)\n",
    "    enc4 = res(enc3, 128, strides=2)\n",
    "    enc5 = res(enc4, 256, strides=2)\n",
    "\n",
    "    b0 = conv(enc5, 256, strides=1)\n",
    "    b1 = conv(b0, 256, strides=1)\n",
    "\n",
    "    upsamp1 = tensorflow.keras.layers.UpSampling2D((2, 2))(b1)\n",
    "    upsamp1 = tensorflow.keras.layers.Concatenate()([upsamp1, enc4])\n",
    "    dec1 = res(upsamp1, 256)\n",
    "\n",
    "    upsamp2 = tensorflow.keras.layers.UpSampling2D((2, 2))(dec1)\n",
    "    upsamp2 = tensorflow.keras.layers.Concatenate()([upsamp2, enc3])\n",
    "    dec2 = res(upsamp2, 128)\n",
    "\n",
    "    upsamp3 = tensorflow.keras.layers.UpSampling2D((2, 2))(dec2)\n",
    "    upsamp3 = tensorflow.keras.layers.Concatenate()([upsamp3, enc2])\n",
    "    dec3 = res(upsamp3, 64)\n",
    "\n",
    "    upsamp4 = tensorflow.keras.layers.UpSampling2D((2, 2))(dec3)\n",
    "    upsamp4 = tensorflow.keras.layers.Concatenate()([upsamp4, enc1])\n",
    "    dec4 = res(upsamp4, 32)\n",
    "    outputs = tensorflow.keras.layers.Conv2D(1, (1, 1), padding=\"same\", activation=\"sigmoid\")(dec4)\n",
    "    model = tensorflow.keras.models.Model(inputs, outputs)\n",
    "    return model\n"
   ]
  },
  {
   "cell_type": "code",
   "execution_count": 22,
   "id": "A-bmok9MqmS8",
   "metadata": {
    "colab": {
     "base_uri": "https://localhost:8080/"
    },
    "id": "A-bmok9MqmS8",
    "outputId": "ff96b55c-634a-4bf7-8558-0beb1a809a00"
   },
   "outputs": [
    {
     "name": "stdout",
     "output_type": "stream",
     "text": [
      "Model: \"model\"\n",
      "__________________________________________________________________________________________________\n",
      " Layer (type)                   Output Shape         Param #     Connected to                     \n",
      "==================================================================================================\n",
      " input_1 (InputLayer)           [(None, 256, 256, 3  0           []                               \n",
      "                                )]                                                                \n",
      "                                                                                                  \n",
      " conv2d (Conv2D)                (None, 256, 256, 16  448         ['input_1[0][0]']                \n",
      "                                )                                                                 \n",
      "                                                                                                  \n",
      " batch_normalization (BatchNorm  (None, 256, 256, 16  64         ['conv2d[0][0]']                 \n",
      " alization)                     )                                                                 \n",
      "                                                                                                  \n",
      " activation (Activation)        (None, 256, 256, 16  0           ['batch_normalization[0][0]']    \n",
      "                                )                                                                 \n",
      "                                                                                                  \n",
      " conv2d_2 (Conv2D)              (None, 256, 256, 16  64          ['input_1[0][0]']                \n",
      "                                )                                                                 \n",
      "                                                                                                  \n",
      " conv2d_1 (Conv2D)              (None, 256, 256, 16  2320        ['activation[0][0]']             \n",
      "                                )                                                                 \n",
      "                                                                                                  \n",
      " batch_normalization_1 (BatchNo  (None, 256, 256, 16  64         ['conv2d_2[0][0]']               \n",
      " rmalization)                   )                                                                 \n",
      "                                                                                                  \n",
      " add (Add)                      (None, 256, 256, 16  0           ['conv2d_1[0][0]',               \n",
      "                                )                                 'batch_normalization_1[0][0]']  \n",
      "                                                                                                  \n",
      " batch_normalization_2 (BatchNo  (None, 256, 256, 16  64         ['add[0][0]']                    \n",
      " rmalization)                   )                                                                 \n",
      "                                                                                                  \n",
      " activation_1 (Activation)      (None, 256, 256, 16  0           ['batch_normalization_2[0][0]']  \n",
      "                                )                                                                 \n",
      "                                                                                                  \n",
      " conv2d_3 (Conv2D)              (None, 128, 128, 32  4640        ['activation_1[0][0]']           \n",
      "                                )                                                                 \n",
      "                                                                                                  \n",
      " batch_normalization_3 (BatchNo  (None, 128, 128, 32  128        ['conv2d_3[0][0]']               \n",
      " rmalization)                   )                                                                 \n",
      "                                                                                                  \n",
      " conv2d_5 (Conv2D)              (None, 128, 128, 32  544         ['add[0][0]']                    \n",
      "                                )                                                                 \n",
      "                                                                                                  \n",
      " activation_2 (Activation)      (None, 128, 128, 32  0           ['batch_normalization_3[0][0]']  \n",
      "                                )                                                                 \n",
      "                                                                                                  \n",
      " batch_normalization_4 (BatchNo  (None, 128, 128, 32  128        ['conv2d_5[0][0]']               \n",
      " rmalization)                   )                                                                 \n",
      "                                                                                                  \n",
      " conv2d_4 (Conv2D)              (None, 128, 128, 32  9248        ['activation_2[0][0]']           \n",
      "                                )                                                                 \n",
      "                                                                                                  \n",
      " add_1 (Add)                    (None, 128, 128, 32  0           ['batch_normalization_4[0][0]',  \n",
      "                                )                                 'conv2d_4[0][0]']               \n",
      "                                                                                                  \n",
      " batch_normalization_5 (BatchNo  (None, 128, 128, 32  128        ['add_1[0][0]']                  \n",
      " rmalization)                   )                                                                 \n",
      "                                                                                                  \n",
      " activation_3 (Activation)      (None, 128, 128, 32  0           ['batch_normalization_5[0][0]']  \n",
      "                                )                                                                 \n",
      "                                                                                                  \n",
      " conv2d_6 (Conv2D)              (None, 64, 64, 64)   18496       ['activation_3[0][0]']           \n",
      "                                                                                                  \n",
      " batch_normalization_6 (BatchNo  (None, 64, 64, 64)  256         ['conv2d_6[0][0]']               \n",
      " rmalization)                                                                                     \n",
      "                                                                                                  \n",
      " conv2d_8 (Conv2D)              (None, 64, 64, 64)   2112        ['add_1[0][0]']                  \n",
      "                                                                                                  \n",
      " activation_4 (Activation)      (None, 64, 64, 64)   0           ['batch_normalization_6[0][0]']  \n",
      "                                                                                                  \n",
      " batch_normalization_7 (BatchNo  (None, 64, 64, 64)  256         ['conv2d_8[0][0]']               \n",
      " rmalization)                                                                                     \n",
      "                                                                                                  \n",
      " conv2d_7 (Conv2D)              (None, 64, 64, 64)   36928       ['activation_4[0][0]']           \n",
      "                                                                                                  \n",
      " add_2 (Add)                    (None, 64, 64, 64)   0           ['batch_normalization_7[0][0]',  \n",
      "                                                                  'conv2d_7[0][0]']               \n",
      "                                                                                                  \n",
      " batch_normalization_8 (BatchNo  (None, 64, 64, 64)  256         ['add_2[0][0]']                  \n",
      " rmalization)                                                                                     \n",
      "                                                                                                  \n",
      " activation_5 (Activation)      (None, 64, 64, 64)   0           ['batch_normalization_8[0][0]']  \n",
      "                                                                                                  \n",
      " conv2d_9 (Conv2D)              (None, 32, 32, 128)  73856       ['activation_5[0][0]']           \n",
      "                                                                                                  \n",
      " batch_normalization_9 (BatchNo  (None, 32, 32, 128)  512        ['conv2d_9[0][0]']               \n",
      " rmalization)                                                                                     \n",
      "                                                                                                  \n",
      " conv2d_11 (Conv2D)             (None, 32, 32, 128)  8320        ['add_2[0][0]']                  \n",
      "                                                                                                  \n",
      " activation_6 (Activation)      (None, 32, 32, 128)  0           ['batch_normalization_9[0][0]']  \n",
      "                                                                                                  \n",
      " batch_normalization_10 (BatchN  (None, 32, 32, 128)  512        ['conv2d_11[0][0]']              \n",
      " ormalization)                                                                                    \n",
      "                                                                                                  \n",
      " conv2d_10 (Conv2D)             (None, 32, 32, 128)  147584      ['activation_6[0][0]']           \n",
      "                                                                                                  \n",
      " add_3 (Add)                    (None, 32, 32, 128)  0           ['batch_normalization_10[0][0]', \n",
      "                                                                  'conv2d_10[0][0]']              \n",
      "                                                                                                  \n",
      " batch_normalization_11 (BatchN  (None, 32, 32, 128)  512        ['add_3[0][0]']                  \n",
      " ormalization)                                                                                    \n",
      "                                                                                                  \n",
      " activation_7 (Activation)      (None, 32, 32, 128)  0           ['batch_normalization_11[0][0]'] \n",
      "                                                                                                  \n",
      " conv2d_12 (Conv2D)             (None, 16, 16, 256)  295168      ['activation_7[0][0]']           \n",
      "                                                                                                  \n",
      " batch_normalization_12 (BatchN  (None, 16, 16, 256)  1024       ['conv2d_12[0][0]']              \n",
      " ormalization)                                                                                    \n",
      "                                                                                                  \n",
      " conv2d_14 (Conv2D)             (None, 16, 16, 256)  33024       ['add_3[0][0]']                  \n",
      "                                                                                                  \n",
      " activation_8 (Activation)      (None, 16, 16, 256)  0           ['batch_normalization_12[0][0]'] \n",
      "                                                                                                  \n",
      " batch_normalization_13 (BatchN  (None, 16, 16, 256)  1024       ['conv2d_14[0][0]']              \n",
      " ormalization)                                                                                    \n",
      "                                                                                                  \n",
      " conv2d_13 (Conv2D)             (None, 16, 16, 256)  590080      ['activation_8[0][0]']           \n",
      "                                                                                                  \n",
      " add_4 (Add)                    (None, 16, 16, 256)  0           ['batch_normalization_13[0][0]', \n",
      "                                                                  'conv2d_13[0][0]']              \n",
      "                                                                                                  \n",
      " batch_normalization_14 (BatchN  (None, 16, 16, 256)  1024       ['add_4[0][0]']                  \n",
      " ormalization)                                                                                    \n",
      "                                                                                                  \n",
      " activation_9 (Activation)      (None, 16, 16, 256)  0           ['batch_normalization_14[0][0]'] \n",
      "                                                                                                  \n",
      " conv2d_15 (Conv2D)             (None, 16, 16, 256)  590080      ['activation_9[0][0]']           \n",
      "                                                                                                  \n",
      " batch_normalization_15 (BatchN  (None, 16, 16, 256)  1024       ['conv2d_15[0][0]']              \n",
      " ormalization)                                                                                    \n",
      "                                                                                                  \n",
      " activation_10 (Activation)     (None, 16, 16, 256)  0           ['batch_normalization_15[0][0]'] \n",
      "                                                                                                  \n",
      " conv2d_16 (Conv2D)             (None, 16, 16, 256)  590080      ['activation_10[0][0]']          \n",
      "                                                                                                  \n",
      " up_sampling2d (UpSampling2D)   (None, 32, 32, 256)  0           ['conv2d_16[0][0]']              \n",
      "                                                                                                  \n",
      " concatenate (Concatenate)      (None, 32, 32, 384)  0           ['up_sampling2d[0][0]',          \n",
      "                                                                  'add_3[0][0]']                  \n",
      "                                                                                                  \n",
      " batch_normalization_16 (BatchN  (None, 32, 32, 384)  1536       ['concatenate[0][0]']            \n",
      " ormalization)                                                                                    \n",
      "                                                                                                  \n",
      " activation_11 (Activation)     (None, 32, 32, 384)  0           ['batch_normalization_16[0][0]'] \n",
      "                                                                                                  \n",
      " conv2d_17 (Conv2D)             (None, 32, 32, 256)  884992      ['activation_11[0][0]']          \n",
      "                                                                                                  \n",
      " batch_normalization_17 (BatchN  (None, 32, 32, 256)  1024       ['conv2d_17[0][0]']              \n",
      " ormalization)                                                                                    \n",
      "                                                                                                  \n",
      " conv2d_19 (Conv2D)             (None, 32, 32, 256)  98560       ['concatenate[0][0]']            \n",
      "                                                                                                  \n",
      " activation_12 (Activation)     (None, 32, 32, 256)  0           ['batch_normalization_17[0][0]'] \n",
      "                                                                                                  \n",
      " batch_normalization_18 (BatchN  (None, 32, 32, 256)  1024       ['conv2d_19[0][0]']              \n",
      " ormalization)                                                                                    \n",
      "                                                                                                  \n",
      " conv2d_18 (Conv2D)             (None, 32, 32, 256)  590080      ['activation_12[0][0]']          \n",
      "                                                                                                  \n",
      " add_5 (Add)                    (None, 32, 32, 256)  0           ['batch_normalization_18[0][0]', \n",
      "                                                                  'conv2d_18[0][0]']              \n",
      "                                                                                                  \n",
      " up_sampling2d_1 (UpSampling2D)  (None, 64, 64, 256)  0          ['add_5[0][0]']                  \n",
      "                                                                                                  \n",
      " concatenate_1 (Concatenate)    (None, 64, 64, 320)  0           ['up_sampling2d_1[0][0]',        \n",
      "                                                                  'add_2[0][0]']                  \n",
      "                                                                                                  \n",
      " batch_normalization_19 (BatchN  (None, 64, 64, 320)  1280       ['concatenate_1[0][0]']          \n",
      " ormalization)                                                                                    \n",
      "                                                                                                  \n",
      " activation_13 (Activation)     (None, 64, 64, 320)  0           ['batch_normalization_19[0][0]'] \n",
      "                                                                                                  \n",
      " conv2d_20 (Conv2D)             (None, 64, 64, 128)  368768      ['activation_13[0][0]']          \n",
      "                                                                                                  \n",
      " batch_normalization_20 (BatchN  (None, 64, 64, 128)  512        ['conv2d_20[0][0]']              \n",
      " ormalization)                                                                                    \n",
      "                                                                                                  \n",
      " conv2d_22 (Conv2D)             (None, 64, 64, 128)  41088       ['concatenate_1[0][0]']          \n",
      "                                                                                                  \n",
      " activation_14 (Activation)     (None, 64, 64, 128)  0           ['batch_normalization_20[0][0]'] \n",
      "                                                                                                  \n",
      " batch_normalization_21 (BatchN  (None, 64, 64, 128)  512        ['conv2d_22[0][0]']              \n",
      " ormalization)                                                                                    \n",
      "                                                                                                  \n",
      " conv2d_21 (Conv2D)             (None, 64, 64, 128)  147584      ['activation_14[0][0]']          \n",
      "                                                                                                  \n",
      " add_6 (Add)                    (None, 64, 64, 128)  0           ['batch_normalization_21[0][0]', \n",
      "                                                                  'conv2d_21[0][0]']              \n",
      "                                                                                                  \n",
      " up_sampling2d_2 (UpSampling2D)  (None, 128, 128, 12  0          ['add_6[0][0]']                  \n",
      "                                8)                                                                \n",
      "                                                                                                  \n",
      " concatenate_2 (Concatenate)    (None, 128, 128, 16  0           ['up_sampling2d_2[0][0]',        \n",
      "                                0)                                'add_1[0][0]']                  \n",
      "                                                                                                  \n",
      " batch_normalization_22 (BatchN  (None, 128, 128, 16  640        ['concatenate_2[0][0]']          \n",
      " ormalization)                  0)                                                                \n",
      "                                                                                                  \n",
      " activation_15 (Activation)     (None, 128, 128, 16  0           ['batch_normalization_22[0][0]'] \n",
      "                                0)                                                                \n",
      "                                                                                                  \n",
      " conv2d_23 (Conv2D)             (None, 128, 128, 64  92224       ['activation_15[0][0]']          \n",
      "                                )                                                                 \n",
      "                                                                                                  \n",
      " batch_normalization_23 (BatchN  (None, 128, 128, 64  256        ['conv2d_23[0][0]']              \n",
      " ormalization)                  )                                                                 \n",
      "                                                                                                  \n",
      " conv2d_25 (Conv2D)             (None, 128, 128, 64  10304       ['concatenate_2[0][0]']          \n",
      "                                )                                                                 \n",
      "                                                                                                  \n",
      " activation_16 (Activation)     (None, 128, 128, 64  0           ['batch_normalization_23[0][0]'] \n",
      "                                )                                                                 \n",
      "                                                                                                  \n",
      " batch_normalization_24 (BatchN  (None, 128, 128, 64  256        ['conv2d_25[0][0]']              \n",
      " ormalization)                  )                                                                 \n",
      "                                                                                                  \n",
      " conv2d_24 (Conv2D)             (None, 128, 128, 64  36928       ['activation_16[0][0]']          \n",
      "                                )                                                                 \n",
      "                                                                                                  \n",
      " add_7 (Add)                    (None, 128, 128, 64  0           ['batch_normalization_24[0][0]', \n",
      "                                )                                 'conv2d_24[0][0]']              \n",
      "                                                                                                  \n",
      " up_sampling2d_3 (UpSampling2D)  (None, 256, 256, 64  0          ['add_7[0][0]']                  \n",
      "                                )                                                                 \n",
      "                                                                                                  \n",
      " concatenate_3 (Concatenate)    (None, 256, 256, 80  0           ['up_sampling2d_3[0][0]',        \n",
      "                                )                                 'add[0][0]']                    \n",
      "                                                                                                  \n",
      " batch_normalization_25 (BatchN  (None, 256, 256, 80  320        ['concatenate_3[0][0]']          \n",
      " ormalization)                  )                                                                 \n",
      "                                                                                                  \n",
      " activation_17 (Activation)     (None, 256, 256, 80  0           ['batch_normalization_25[0][0]'] \n",
      "                                )                                                                 \n",
      "                                                                                                  \n",
      " conv2d_26 (Conv2D)             (None, 256, 256, 32  23072       ['activation_17[0][0]']          \n",
      "                                )                                                                 \n",
      "                                                                                                  \n",
      " batch_normalization_26 (BatchN  (None, 256, 256, 32  128        ['conv2d_26[0][0]']              \n",
      " ormalization)                  )                                                                 \n",
      "                                                                                                  \n",
      " conv2d_28 (Conv2D)             (None, 256, 256, 32  2592        ['concatenate_3[0][0]']          \n",
      "                                )                                                                 \n",
      "                                                                                                  \n",
      " activation_18 (Activation)     (None, 256, 256, 32  0           ['batch_normalization_26[0][0]'] \n",
      "                                )                                                                 \n",
      "                                                                                                  \n",
      " batch_normalization_27 (BatchN  (None, 256, 256, 32  128        ['conv2d_28[0][0]']              \n",
      " ormalization)                  )                                                                 \n",
      "                                                                                                  \n",
      " conv2d_27 (Conv2D)             (None, 256, 256, 32  9248        ['activation_18[0][0]']          \n",
      "                                )                                                                 \n",
      "                                                                                                  \n",
      " add_8 (Add)                    (None, 256, 256, 32  0           ['batch_normalization_27[0][0]', \n",
      "                                )                                 'conv2d_27[0][0]']              \n",
      "                                                                                                  \n",
      " conv2d_29 (Conv2D)             (None, 256, 256, 1)  33          ['add_8[0][0]']                  \n",
      "                                                                                                  \n",
      "==================================================================================================\n",
      "Total params: 4,723,057\n",
      "Trainable params: 4,715,761\n",
      "Non-trainable params: 7,296\n",
      "__________________________________________________________________________________________________\n"
     ]
    }
   ],
   "source": [
    "model = ResUNet()\n",
    "model.summary()"
   ]
  },
  {
   "cell_type": "markdown",
   "id": "CYTgLaeKlSKl",
   "metadata": {
    "id": "CYTgLaeKlSKl"
   },
   "source": [
    "# Training"
   ]
  },
  {
   "cell_type": "code",
   "execution_count": 25,
   "id": "fovARSBhsqa8",
   "metadata": {
    "id": "fovARSBhsqa8"
   },
   "outputs": [],
   "source": [
    "import numpy as np\n",
    "from tensorflow.keras import backend as K\n",
    "\n",
    "smooth = 1e-15\n",
    "def dice_coef(y_true, y_pred):\n",
    "    y_true = tf.keras.layers.Flatten()(y_true)\n",
    "    y_pred = tf.keras.layers.Flatten()(y_pred)\n",
    "    intersection = tf.reduce_sum(y_true * y_pred)\n",
    "    return (2. * intersection + smooth) / (tf.reduce_sum(y_true) + tf.reduce_sum(y_pred) + smooth)\n",
    "\n",
    "def dice_loss(y_true, y_pred):\n",
    "    return 1.0 - dice_coef(y_true, y_pred)"
   ]
  },
  {
   "cell_type": "code",
   "execution_count": 60,
   "id": "dcHFQam1qnSd",
   "metadata": {
    "id": "dcHFQam1qnSd"
   },
   "outputs": [],
   "source": [
    "from sklearn.utils import shuffle\n",
    "import tensorflow as tf\n",
    "from tensorflow.keras.callbacks import ModelCheckpoint, CSVLogger, ReduceLROnPlateau, EarlyStopping, TensorBoard\n",
    "from tensorflow.keras.optimizers import Adam\n",
    "from sklearn.model_selection import train_test_split\n",
    "\n",
    "\"\"\" Global parameters \"\"\"\n",
    "H = 256\n",
    "W = 256\n",
    "\n",
    "def create_dir(path):\n",
    "    if not os.path.exists(path):\n",
    "        os.makedirs(path)\n",
    "\n",
    "def load_dataset(path, split=0.25):\n",
    "    images = sorted(glob(os.path.join(path, \"scan_images\", \"*.png\")))\n",
    "    masks = sorted(glob(os.path.join(path, \"segmented_images\", \"*.png\")))\n",
    "\n",
    "    split_size = int(len(images) * split)\n",
    "\n",
    "    train_x, valid_x = train_test_split(images, test_size=split_size, random_state=42)\n",
    "    train_y, valid_y = train_test_split(masks, test_size=split_size, random_state=42)\n",
    "\n",
    "    train_x, test_x = train_test_split(train_x, test_size=split_size, random_state=42)\n",
    "    train_y, test_y = train_test_split(train_y, test_size=split_size, random_state=42)\n",
    "\n",
    "    return (train_x, train_y), (valid_x, valid_y), (test_x, test_y)\n"
   ]
  },
  {
   "cell_type": "code",
   "execution_count": 50,
   "id": "YOyOokb-q5tz",
   "metadata": {
    "id": "YOyOokb-q5tz"
   },
   "outputs": [],
   "source": [
    "def read_image(path):\n",
    "    path = path.decode()\n",
    "    x = cv2.imread(path, cv2.IMREAD_COLOR)\n",
    "    x = cv2.resize(x, (W, H))\n",
    "    x = x / 255.0\n",
    "    x = x.astype(np.float32)\n",
    "    return x\n",
    "\n",
    "def read_mask(path):\n",
    "    path = path.decode()\n",
    "    x = cv2.imread(path, cv2.IMREAD_GRAYSCALE)  ## (h, w)\n",
    "    x = cv2.resize(x, (W, H))   ## (h, w)\n",
    "    x = x / 255.0               ## (h, w)\n",
    "    x = x.astype(np.float32)    ## (h, w)\n",
    "    x = np.expand_dims(x, axis=-1)## (h, w, 1)\n",
    "    return x\n",
    "\n",
    "def tf_parse(x, y):\n",
    "    def _parse(x, y):\n",
    "        x = read_image(x)\n",
    "        y = read_mask(y)\n",
    "        return x, y\n",
    "\n",
    "    x, y = tf.numpy_function(_parse, [x, y], [tf.float32, tf.float32])\n",
    "    x.set_shape([H, W, 3])\n",
    "    y.set_shape([H, W, 1])\n",
    "    return x, y\n",
    "\n",
    "def tf_dataset(X, Y, batch=2):\n",
    "    dataset = tf.data.Dataset.from_tensor_slices((X, Y))\n",
    "    dataset = dataset.map(tf_parse)\n",
    "    dataset = dataset.batch(batch)\n",
    "    dataset = dataset.prefetch(10)\n",
    "    return dataset\n"
   ]
  },
  {
   "cell_type": "code",
   "execution_count": 51,
   "id": "Netqft5KrDRB",
   "metadata": {
    "id": "Netqft5KrDRB"
   },
   "outputs": [],
   "source": [
    "\"\"\" Seeding \"\"\"\n",
    "np.random.seed(42)\n",
    "tf.random.set_seed(42)"
   ]
  },
  {
   "cell_type": "code",
   "execution_count": 52,
   "id": "sMbkGrGZrGW1",
   "metadata": {
    "id": "sMbkGrGZrGW1"
   },
   "outputs": [],
   "source": [
    "\"\"\" Directory for storing files \"\"\"\n",
    "create_dir(\"/content/drive/MyDrive/model/\")\n"
   ]
  },
  {
   "cell_type": "code",
   "execution_count": 58,
   "id": "FFLfAMhcrM6U",
   "metadata": {
    "id": "FFLfAMhcrM6U"
   },
   "outputs": [],
   "source": [
    "\"\"\" Hyperparameters \"\"\"\n",
    "batch_size = 8\n",
    "lr = 1e-4\n",
    "num_epochs = 30\n",
    "model_path = os.path.join(\"/content/drive/MyDrive/model/\", \"model2.h5\")\n",
    "csv_path = os.path.join(\"/content/drive/MyDrive/model/\", \"log2.csv\")"
   ]
  },
  {
   "cell_type": "code",
   "execution_count": 90,
   "id": "ofDE7yYqrUAn",
   "metadata": {
    "colab": {
     "base_uri": "https://localhost:8080/"
    },
    "id": "ofDE7yYqrUAn",
    "outputId": "f2491875-9da0-4767-9d83-3a8621933ab8"
   },
   "outputs": [
    {
     "name": "stdout",
     "output_type": "stream",
     "text": [
      "Train: 7378 - 7378\n",
      "Valid: 3688 - 3688\n",
      "Test : 3688 - 3688\n"
     ]
    }
   ],
   "source": [
    "\"\"\" Dataset \"\"\"\n",
    "dataset_path = \"/content/drive/MyDrive/2-D/\"\n",
    "(train_x, train_y), (valid_x, valid_y), (test_x, test_y) = load_dataset(dataset_path)\n",
    "\n",
    "print(f\"Train: {len(train_x)} - {len(train_y)}\")\n",
    "print(f\"Valid: {len(valid_x)} - {len(valid_y)}\")\n",
    "print(f\"Test : {len(test_x)} - {len(test_y)}\")\n",
    "\n",
    "train_dataset = tf_dataset(train_x, train_y, batch=batch_size)\n",
    "valid_dataset = tf_dataset(valid_x, valid_y, batch=batch_size)"
   ]
  },
  {
   "cell_type": "code",
   "execution_count": 62,
   "id": "jMbfHONtre4N",
   "metadata": {
    "id": "jMbfHONtre4N"
   },
   "outputs": [],
   "source": [
    "model = ResUNet()\n",
    "model.compile(loss=dice_loss, optimizer=Adam(lr), metrics=[dice_coef,\"binary_accuracy\"])\n"
   ]
  },
  {
   "cell_type": "code",
   "execution_count": 63,
   "id": "8w-LemogrqTn",
   "metadata": {
    "id": "8w-LemogrqTn"
   },
   "outputs": [],
   "source": [
    "callbacks = [\n",
    "        ModelCheckpoint(model_path, verbose=1, save_best_only=True),\n",
    "        ReduceLROnPlateau(monitor='val_loss', factor=0.1, patience=5, min_lr=1e-7, verbose=1),\n",
    "        CSVLogger(csv_path),\n",
    "        EarlyStopping(monitor='val_loss', patience=5, restore_best_weights=False),\n",
    "    ]"
   ]
  },
  {
   "cell_type": "code",
   "execution_count": 64,
   "id": "DEGZWPNNx84s",
   "metadata": {
    "colab": {
     "base_uri": "https://localhost:8080/"
    },
    "id": "DEGZWPNNx84s",
    "outputId": "14dad163-c87f-4fb3-d0d3-f8057ca72ad3"
   },
   "outputs": [
    {
     "name": "stdout",
     "output_type": "stream",
     "text": [
      "Epoch 1/10\n",
      "923/923 [==============================] - ETA: 0s - loss: 0.4467 - dice_coef: 0.5529 - binary_accuracy: 0.9844\n",
      "Epoch 1: val_loss improved from inf to 0.42006, saving model to /content/drive/MyDrive/model/model2.h5\n",
      "923/923 [==============================] - 270s 269ms/step - loss: 0.4467 - dice_coef: 0.5529 - binary_accuracy: 0.9844 - val_loss: 0.4201 - val_dice_coef: 0.5799 - val_binary_accuracy: 0.9953 - lr: 1.0000e-04\n",
      "Epoch 2/10\n",
      "923/923 [==============================] - ETA: 0s - loss: 0.2364 - dice_coef: 0.7630 - binary_accuracy: 0.9966\n",
      "Epoch 2: val_loss improved from 0.42006 to 0.23231, saving model to /content/drive/MyDrive/model/model2.h5\n",
      "923/923 [==============================] - 238s 258ms/step - loss: 0.2364 - dice_coef: 0.7630 - binary_accuracy: 0.9966 - val_loss: 0.2323 - val_dice_coef: 0.7677 - val_binary_accuracy: 0.9972 - lr: 1.0000e-04\n",
      "Epoch 3/10\n",
      "923/923 [==============================] - ETA: 0s - loss: 0.1930 - dice_coef: 0.8063 - binary_accuracy: 0.9971\n",
      "Epoch 3: val_loss improved from 0.23231 to 0.21060, saving model to /content/drive/MyDrive/model/model2.h5\n",
      "923/923 [==============================] - 231s 251ms/step - loss: 0.1930 - dice_coef: 0.8063 - binary_accuracy: 0.9971 - val_loss: 0.2106 - val_dice_coef: 0.7894 - val_binary_accuracy: 0.9974 - lr: 1.0000e-04\n",
      "Epoch 4/10\n",
      "923/923 [==============================] - ETA: 0s - loss: 0.1624 - dice_coef: 0.8369 - binary_accuracy: 0.9974\n",
      "Epoch 4: val_loss improved from 0.21060 to 0.19313, saving model to /content/drive/MyDrive/model/model2.h5\n",
      "923/923 [==============================] - 233s 252ms/step - loss: 0.1624 - dice_coef: 0.8369 - binary_accuracy: 0.9974 - val_loss: 0.1931 - val_dice_coef: 0.8069 - val_binary_accuracy: 0.9975 - lr: 1.0000e-04\n",
      "Epoch 5/10\n",
      "923/923 [==============================] - ETA: 0s - loss: 0.1627 - dice_coef: 0.8366 - binary_accuracy: 0.9973\n",
      "Epoch 5: val_loss did not improve from 0.19313\n",
      "923/923 [==============================] - 237s 257ms/step - loss: 0.1627 - dice_coef: 0.8366 - binary_accuracy: 0.9973 - val_loss: 0.2013 - val_dice_coef: 0.7987 - val_binary_accuracy: 0.9973 - lr: 1.0000e-04\n",
      "Epoch 6/10\n",
      "923/923 [==============================] - ETA: 0s - loss: 0.1401 - dice_coef: 0.8592 - binary_accuracy: 0.9976\n",
      "Epoch 6: val_loss improved from 0.19313 to 0.15321, saving model to /content/drive/MyDrive/model/model2.h5\n",
      "923/923 [==============================] - 256s 278ms/step - loss: 0.1401 - dice_coef: 0.8592 - binary_accuracy: 0.9976 - val_loss: 0.1532 - val_dice_coef: 0.8468 - val_binary_accuracy: 0.9978 - lr: 1.0000e-04\n",
      "Epoch 7/10\n",
      "923/923 [==============================] - ETA: 0s - loss: 0.1349 - dice_coef: 0.8644 - binary_accuracy: 0.9977\n",
      "Epoch 7: val_loss did not improve from 0.15321\n",
      "923/923 [==============================] - 238s 258ms/step - loss: 0.1349 - dice_coef: 0.8644 - binary_accuracy: 0.9977 - val_loss: 0.1842 - val_dice_coef: 0.8158 - val_binary_accuracy: 0.9976 - lr: 1.0000e-04\n",
      "Epoch 8/10\n",
      "923/923 [==============================] - ETA: 0s - loss: 0.1307 - dice_coef: 0.8686 - binary_accuracy: 0.9977\n",
      "Epoch 8: val_loss improved from 0.15321 to 0.15007, saving model to /content/drive/MyDrive/model/model2.h5\n",
      "923/923 [==============================] - 268s 291ms/step - loss: 0.1307 - dice_coef: 0.8686 - binary_accuracy: 0.9977 - val_loss: 0.1501 - val_dice_coef: 0.8499 - val_binary_accuracy: 0.9979 - lr: 1.0000e-04\n",
      "Epoch 9/10\n",
      "923/923 [==============================] - ETA: 0s - loss: 0.1390 - dice_coef: 0.8603 - binary_accuracy: 0.9976\n",
      "Epoch 9: val_loss did not improve from 0.15007\n",
      "923/923 [==============================] - 229s 248ms/step - loss: 0.1390 - dice_coef: 0.8603 - binary_accuracy: 0.9976 - val_loss: 0.1533 - val_dice_coef: 0.8467 - val_binary_accuracy: 0.9979 - lr: 1.0000e-04\n",
      "Epoch 10/10\n",
      "923/923 [==============================] - ETA: 0s - loss: 0.1241 - dice_coef: 0.8752 - binary_accuracy: 0.9978\n",
      "Epoch 10: val_loss improved from 0.15007 to 0.14750, saving model to /content/drive/MyDrive/model/model2.h5\n",
      "923/923 [==============================] - 230s 249ms/step - loss: 0.1241 - dice_coef: 0.8752 - binary_accuracy: 0.9978 - val_loss: 0.1475 - val_dice_coef: 0.8525 - val_binary_accuracy: 0.9979 - lr: 1.0000e-04\n"
     ]
    },
    {
     "data": {
      "text/plain": [
       "<keras.callbacks.History at 0x7f09514c9300>"
      ]
     },
     "execution_count": 64,
     "metadata": {},
     "output_type": "execute_result"
    }
   ],
   "source": [
    "model.fit(\n",
    "        train_dataset,\n",
    "        epochs = 10,\n",
    "        validation_data=valid_dataset,\n",
    "        callbacks=callbacks\n",
    "    )"
   ]
  },
  {
   "cell_type": "markdown",
   "id": "nOFbnls4lbLR",
   "metadata": {
    "id": "nOFbnls4lbLR"
   },
   "source": [
    "# Visulization"
   ]
  },
  {
   "cell_type": "code",
   "execution_count": 85,
   "id": "o7M5gmJsYoKD",
   "metadata": {
    "colab": {
     "base_uri": "https://localhost:8080/",
     "height": 1000
    },
    "id": "o7M5gmJsYoKD",
    "outputId": "27dd3d25-d53a-4d81-fd2f-7175fce0a0c2",
    "scrolled": true
   },
   "outputs": [
    {
     "data": {
      "image/png": "[encoded data removed]",
      "text/plain": [
       "<Figure size 600x400 with 1 Axes>"
      ]
     },
     "metadata": {},
     "output_type": "display_data"
    },
    {
     "data": {
      "image/png": "[encoded data removed]",
      "text/plain": [
       "<Figure size 600x400 with 1 Axes>"
      ]
     },
     "metadata": {},
     "output_type": "display_data"
    },
    {
     "data": {
      "image/png": "[encoded data removed]",
      "text/plain": [
       "<Figure size 600x400 with 1 Axes>"
      ]
     },
     "metadata": {},
     "output_type": "display_data"
    }
   ],
   "source": [
    "\n",
    "# Read the CSV file\n",
    "data = pd.read_csv(\"/content/drive/MyDrive/model/log2.csv\")\n",
    "\n",
    "# Extract the required columns\n",
    "epoch = data['epoch']\n",
    "train_loss = data['loss']\n",
    "train_accuracy = data['binary_accuracy']\n",
    "train_dice_coef = data['dice_coef']\n",
    "val_loss = data['val_loss']\n",
    "val_accuracy = data['val_binary_accuracy']\n",
    "val_dice_coef = data['val_dice_coef']\n",
    "\n",
    "# Plot the training and validation loss\n",
    "plt.figure(figsize=(6, 4))\n",
    "plt.plot(epoch, train_loss, label='Training Loss')\n",
    "plt.plot(epoch, val_loss, label='Validation Loss')\n",
    "plt.xlabel('Epoch')\n",
    "plt.ylabel('Loss')\n",
    "plt.title('Training and Validation Loss')\n",
    "import matplotlib.pyplot as plt\n",
    "from sklearn.metrics import accuracy_score, precision_score, recall_score, f1_score\n",
    "\n",
    "def display_results(original_image, mask_image, predicted_mask):\n",
    "    fig, axes = plt.subplots(1, 3, figsize=(12, 4))\n",
    "\n",
    "    axes[0].imshow(original_image, cmap='gray')\n",
    "plt.legend()\n",
    "plt.show()\n",
    "\n",
    "# Plot the training and validation accuracy\n",
    "plt.figure(figsize=(6, 4))\n",
    "plt.plot(epoch, train_accuracy, label='Training Accuracy')\n",
    "plt.plot(epoch, val_accuracy, label='Validation Accuracy')\n",
    "plt.xlabel('Epoch')\n",
    "plt.ylabel('Accuracy')\n",
    "plt.title('Training and Validation Accuracy')\n",
    "plt.legend()\n",
    "plt.show()\n",
    "\n",
    "# Plot the training and validation dice coefficient\n",
    "plt.figure(figsize=(6, 4))\n",
    "plt.plot(epoch, train_dice_coef, label='Training Dice Coefficient')\n",
    "plt.plot(epoch, val_dice_coef, label='Validation Dice Coefficient')\n",
    "plt.xlabel('Epoch')\n",
    "plt.ylabel('Dice Coefficient')\n",
    "plt.title('Training and Validation Dice Coefficient')\n",
    "plt.legend()\n",
    "plt.show()\n"
   ]
  },
  {
   "cell_type": "markdown",
   "id": "jmSycqZklmgk",
   "metadata": {
    "id": "jmSycqZklmgk"
   },
   "source": [
    "# Testing"
   ]
  },
  {
   "cell_type": "code",
   "execution_count": 91,
   "id": "ydN1MFQTu3vS",
   "metadata": {
    "id": "ydN1MFQTu3vS"
   },
   "outputs": [],
   "source": [
    "from glob import glob\n",
    "from tqdm import tqdm\n",
    "from tensorflow.keras.utils import CustomObjectScope\n",
    "from sklearn.metrics import f1_score, jaccard_score, precision_score, recall_score\n",
    "from sklearn.model_selection import train_test_split"
   ]
  },
  {
   "cell_type": "code",
   "execution_count": 72,
   "id": "tnXz7JuWunl5",
   "metadata": {
    "id": "tnXz7JuWunl5"
   },
   "outputs": [],
   "source": [
    "def save_results(image, mask, y_pred, save_image_path):\n",
    "    mask = np.expand_dims(mask, axis=-1)\n",
    "    mask = np.concatenate([mask, mask, mask], axis=-1)\n",
    "\n",
    "    y_pred = np.expand_dims(y_pred, axis=-1)\n",
    "    y_pred = np.concatenate([y_pred, y_pred, y_pred], axis=-1)\n",
    "    y_pred = y_pred * 255\n",
    "\n",
    "    line = np.ones((image.shape[0], 10, 3)) * 255\n",
    "\n",
    "    cat_images = np.concatenate([image, line, mask, line, y_pred], axis=1)\n",
    "    cv2.imwrite(save_image_path, cat_images)\n",
    "\n",
    "    # Convert the image to 8-bit depth\n",
    "    cat_images_8bit = np.uint8(cat_images)\n",
    "\n",
    "    # Display the image using Matplotlib\n",
    "    plt.imshow(cv2.cvtColor(cat_images_8bit, cv2.COLOR_BGR2RGB))\n",
    "    plt.axis('off')\n",
    "    plt.show()"
   ]
  },
  {
   "cell_type": "code",
   "execution_count": 69,
   "id": "FhsVXELTvbJL",
   "metadata": {
    "id": "FhsVXELTvbJL"
   },
   "outputs": [],
   "source": [
    "\"\"\" Load the model \"\"\"\n",
    "with CustomObjectScope({\"dice_coef\": dice_coef, \"dice_loss\": dice_loss}):\n",
    "    model = tf.keras.models.load_model(os.path.join(\"/content/drive/MyDrive/model/\", \"model.h5\"))"
   ]
  },
  {
   "cell_type": "code",
   "execution_count": 92,
   "id": "Lv3STT2iann1",
   "metadata": {
    "colab": {
     "base_uri": "https://localhost:8080/"
    },
    "id": "Lv3STT2iann1",
    "outputId": "eddfbc6d-b227-4484-f638-3c47b92fbefe"
   },
   "outputs": [
    {
     "data": {
      "text/plain": [
       "3688"
      ]
     },
     "execution_count": 92,
     "metadata": {},
     "output_type": "execute_result"
    }
   ],
   "source": [
    "len(test_y)"
   ]
  },
  {
   "cell_type": "markdown",
   "id": "GGUOcYf-ls3l",
   "metadata": {
    "id": "GGUOcYf-ls3l"
   },
   "source": [
    "# Visualzation of real image, masked image and predicted mask image"
   ]
  },
  {
   "cell_type": "code",
   "execution_count": null,
   "id": "579e35ca",
   "metadata": {},
   "outputs": [],
   "source": [
    "SCORE = []\n",
    "for x, y in tqdm(zip(test_x, test_y), total=len(test_y)):\n",
    "    \"\"\" Extracting the name \"\"\"\n",
    "    name = x.split(\"/\")[-1]\n",
    "    \"\"\" Reading the image \"\"\"\n",
    "    image = cv2.imread(x, cv2.IMREAD_COLOR) ## [H, w, 3]\n",
    "    image = cv2.resize(image, (W, H))       ## [H, w, 3]\n",
    "    x = image/255.0                         ## [H, w, 3]\n",
    "    x = np.expand_dims(x, axis=0)           ## [1, H, w, 3]\n",
    "    \"\"\" Reading the mask \"\"\"\n",
    "    mask = cv2.imread(y, cv2.IMREAD_GRAYSCALE)\n",
    "    mask = cv2.resize(mask, (W, H))\n",
    "    \"\"\" Prediction \"\"\"\n",
    "    y_pred = model.predict(x, verbose=0)[0]\n",
    "    y_pred = np.squeeze(y_pred, axis=-1)\n",
    "    y_pred = y_pred >= 0.5\n",
    "    y_pred = y_pred.astype(np.int32)\n",
    "    \"\"\" Saving the prediction \"\"\"\n",
    "    save_image_path = os.path.join(\"results\", name)\n",
    "    save_results(image, mask, y_pred, save_image_path)\n",
    "    \"\"\" Flatten the array \"\"\"\n",
    "    mask = mask/255.0\n",
    "    mask = (mask > 0.5).astype(np.int32).flatten()\n",
    "    y_pred = y_pred.flatten()\n",
    "    \"\"\" Calculating the metrics values \"\"\"\n",
    "    f1_value = f1_score(mask, y_pred, labels=[0, 1], average=\"binary\")\n",
    "    jac_value = jaccard_score(mask, y_pred, labels=[0, 1], average=\"binary\")\n",
    "    recall_value = recall_score(mask, y_pred, labels=[0, 1], average=\"binary\", zero_division=0)\n",
    "    precision_value = precision_score(mask, y_pred, labels=[0, 1], average=\"binary\", zero_division=0)\n",
    "    if f1_value != 0 and jac_value != 0 and recall_value != 0 and precision_value != 0:\n",
    "       SCORE.append([name, f1_value, jac_value, recall_value, precision_value])"
   ]
  },
  {
   "cell_type": "markdown",
   "id": "pGc2wWf-tdCB",
   "metadata": {
    "id": "pGc2wWf-tdCB"
   },
   "source": [
    "# Test metrices"
   ]
  },
  {
   "cell_type": "code",
   "execution_count": 97,
   "id": "XV-YQvy0w5jv",
   "metadata": {
    "colab": {
     "base_uri": "https://localhost:8080/"
    },
    "id": "XV-YQvy0w5jv",
    "outputId": "e82f1500-6b9b-4bd0-ebdb-2ac00ac6d149"
   },
   "outputs": [
    {
     "name": "stdout",
     "output_type": "stream",
     "text": [
      "F1: 0.94210\n",
      "Jaccard: 0.89860\n",
      "Recall: 0.95204\n",
      "Precision: 0.94205\n"
     ]
    }
   ],
   "source": [
    "score = [s[1:]for s in SCORE]\n",
    "score = np.mean(score, axis=0)\n",
    "print(f\"F1: {score[0]:0.5f}\")\n",
    "print(f\"Jaccard: {score[1]:0.5f}\")\n",
    "print(f\"Recall: {score[2]:0.5f}\")\n",
    "print(f\"Precision: {score[3]:0.5f}\")\n",
    "df = pd.DataFrame(SCORE, columns=[\"Image\", \"F1\", \"Jaccard\", \"Recall\", \"Precision\"])\n",
    "df.to_csv(\"/content/drive/MyDrive/model/score.csv\")"
   ]
  }
 ],
 "metadata": {
  "accelerator": "GPU",
  "colab": {
   "gpuType": "T4",
   "provenance": []
  },
  "kernelspec": {
   "display_name": "Python 3 (ipykernel)",
   "language": "python",
   "name": "python3"
  },
  "language_info": {
   "codemirror_mode": {
    "name": "ipython",
    "version": 3
   },
   "file_extension": ".py",
   "mimetype": "text/x-python",
   "name": "python",
   "nbconvert_exporter": "python",
   "pygments_lexer": "ipython3",
   "version": "3.10.6"
  }
 },
 "nbformat": 4,
 "nbformat_minor": 5
}
